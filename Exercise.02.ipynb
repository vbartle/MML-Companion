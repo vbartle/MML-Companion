{
 "metadata": {
  "language_info": {
   "codemirror_mode": {
    "name": "ipython",
    "version": 3
   },
   "file_extension": ".py",
   "mimetype": "text/x-python",
   "name": "python",
   "nbconvert_exporter": "python",
   "pygments_lexer": "ipython3",
   "version": 3
  },
  "orig_nbformat": 2
 },
 "nbformat": 4,
 "nbformat_minor": 2,
 "cells": [
  {
   "source": [
    "## congruence class of a modulo\n",
    "\n",
    "Let a and n be integers with n > 0. The congruence class of a modulo n, denoted\n",
    "$[a]n$, is the set of all integers that are congruent to a modulo n; i.e.,\n",
    "$[a]n = {z ∈ Z | a − z = kn\\: for\\: some\\: k ∈ Z}$ ."
   ],
   "cell_type": "markdown",
   "metadata": {}
  }
 ]
}